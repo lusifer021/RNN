{
  "nbformat": 4,
  "nbformat_minor": 0,
  "metadata": {
    "colab": {
      "provenance": []
    },
    "kernelspec": {
      "name": "python3",
      "display_name": "Python 3"
    },
    "language_info": {
      "name": "python"
    }
  },
  "cells": [
    {
      "cell_type": "code",
      "execution_count": null,
      "metadata": {
        "id": "7hMtQ9nU1eCn"
      },
      "outputs": [],
      "source": [
        "import pandas as pd\n",
        "import numpy as np\n",
        "import matplotlib.pyplot as plt\n"
      ]
    },
    {
      "cell_type": "code",
      "source": [
        "x = np.linspace(0,50,501)"
      ],
      "metadata": {
        "id": "zG0ZrCocAY4W"
      },
      "execution_count": null,
      "outputs": []
    },
    {
      "cell_type": "code",
      "source": [
        "# x"
      ],
      "metadata": {
        "id": "Zg2xPB7-Ayva"
      },
      "execution_count": null,
      "outputs": []
    },
    {
      "cell_type": "code",
      "source": [
        "y = np.sin(x)"
      ],
      "metadata": {
        "id": "lnXbS4_eCKGG"
      },
      "execution_count": null,
      "outputs": []
    },
    {
      "cell_type": "code",
      "source": [
        "# y"
      ],
      "metadata": {
        "id": "o3wsD5OuCRef"
      },
      "execution_count": null,
      "outputs": []
    },
    {
      "cell_type": "code",
      "source": [
        "plt.plot(x,y)"
      ],
      "metadata": {
        "colab": {
          "base_uri": "https://localhost:8080/",
          "height": 282
        },
        "id": "7UgwFM2NCVOv",
        "outputId": "74524be3-f635-43bf-e7ea-9d7d8d1f0936"
      },
      "execution_count": null,
      "outputs": [
        {
          "output_type": "execute_result",
          "data": {
            "text/plain": [
              "[<matplotlib.lines.Line2D at 0x7f148cda4e90>]"
            ]
          },
          "metadata": {},
          "execution_count": 6
        },
        {
          "output_type": "display_data",
          "data": {
            "text/plain": [
              "<Figure size 432x288 with 1 Axes>"
            ],
            "image/png": "[encoded data removed]"
          },
          "metadata": {
            "needs_background": "light"
          }
        }
      ]
    },
    {
      "cell_type": "code",
      "source": [
        "df = pd.DataFrame(data = y, index = x , columns = ['Sine'])"
      ],
      "metadata": {
        "id": "Vbctoja0CelW"
      },
      "execution_count": null,
      "outputs": []
    },
    {
      "cell_type": "code",
      "source": [
        "# df"
      ],
      "metadata": {
        "id": "jsjYEbSjCwQt"
      },
      "execution_count": null,
      "outputs": []
    },
    {
      "cell_type": "code",
      "source": [
        "len(df)"
      ],
      "metadata": {
        "colab": {
          "base_uri": "https://localhost:8080/"
        },
        "id": "H1dv2hGdCxXV",
        "outputId": "52c313ae-c80f-4f79-cae1-9137d5bf075c"
      },
      "execution_count": null,
      "outputs": [
        {
          "output_type": "execute_result",
          "data": {
            "text/plain": [
              "501"
            ]
          },
          "metadata": {},
          "execution_count": 9
        }
      ]
    },
    {
      "cell_type": "code",
      "source": [
        "test_percent = 0.1"
      ],
      "metadata": {
        "id": "0vD40MdsC7o9"
      },
      "execution_count": null,
      "outputs": []
    },
    {
      "cell_type": "code",
      "source": [
        "len(df)*test_percent"
      ],
      "metadata": {
        "colab": {
          "base_uri": "https://localhost:8080/"
        },
        "id": "XyFk3c-zDCrp",
        "outputId": "a81eaab9-7998-4f6a-9dbf-9a0acef1990a"
      },
      "execution_count": null,
      "outputs": [
        {
          "output_type": "execute_result",
          "data": {
            "text/plain": [
              "50.1"
            ]
          },
          "metadata": {},
          "execution_count": 11
        }
      ]
    },
    {
      "cell_type": "code",
      "source": [
        "test_point = np.round(len(df)*test_percent)"
      ],
      "metadata": {
        "id": "JtzJTgweDJqp"
      },
      "execution_count": null,
      "outputs": []
    },
    {
      "cell_type": "code",
      "source": [
        "test_point"
      ],
      "metadata": {
        "colab": {
          "base_uri": "https://localhost:8080/"
        },
        "id": "X_HktXO1D0FO",
        "outputId": "2b6a6e57-970b-4337-9237-b710c53e1937"
      },
      "execution_count": null,
      "outputs": [
        {
          "output_type": "execute_result",
          "data": {
            "text/plain": [
              "50.0"
            ]
          },
          "metadata": {},
          "execution_count": 13
        }
      ]
    },
    {
      "cell_type": "code",
      "source": [
        "test_index = int(len(df)-test_point)"
      ],
      "metadata": {
        "id": "KzynNtnVD30Y"
      },
      "execution_count": null,
      "outputs": []
    },
    {
      "cell_type": "code",
      "source": [
        "test_index"
      ],
      "metadata": {
        "colab": {
          "base_uri": "https://localhost:8080/"
        },
        "id": "-0eu3UNMEOk1",
        "outputId": "c33da171-3b89-4f00-f758-e97a0de27d65"
      },
      "execution_count": null,
      "outputs": [
        {
          "output_type": "execute_result",
          "data": {
            "text/plain": [
              "451"
            ]
          },
          "metadata": {},
          "execution_count": 15
        }
      ]
    },
    {
      "cell_type": "code",
      "source": [
        "train = df.iloc[:test_index]"
      ],
      "metadata": {
        "id": "SznEOGM-ESIe"
      },
      "execution_count": null,
      "outputs": []
    },
    {
      "cell_type": "code",
      "source": [
        "test = df.iloc[test_index:]"
      ],
      "metadata": {
        "id": "UYrr8f4YE911"
      },
      "execution_count": null,
      "outputs": []
    },
    {
      "cell_type": "code",
      "source": [
        "# train"
      ],
      "metadata": {
        "id": "wzI_2dBsFG5a"
      },
      "execution_count": null,
      "outputs": []
    },
    {
      "cell_type": "code",
      "source": [
        "# test"
      ],
      "metadata": {
        "id": "g6ScpgpSFJwU"
      },
      "execution_count": null,
      "outputs": []
    },
    {
      "cell_type": "code",
      "source": [
        "  from sklearn.preprocessing import MinMaxScaler"
      ],
      "metadata": {
        "id": "UM0EQuqMFLMW"
      },
      "execution_count": null,
      "outputs": []
    },
    {
      "cell_type": "code",
      "source": [
        "scaler = MinMaxScaler()"
      ],
      "metadata": {
        "id": "UVpSYbuwPkY9"
      },
      "execution_count": null,
      "outputs": []
    },
    {
      "cell_type": "code",
      "source": [
        "scaler.fit(train)"
      ],
      "metadata": {
        "colab": {
          "base_uri": "https://localhost:8080/"
        },
        "id": "Z4pf0UfkP4gZ",
        "outputId": "7514f46c-4612-4d47-ca5a-9a9da84778a8"
      },
      "execution_count": null,
      "outputs": [
        {
          "output_type": "execute_result",
          "data": {
            "text/plain": [
              "MinMaxScaler()"
            ]
          },
          "metadata": {},
          "execution_count": 22
        }
      ]
    },
    {
      "cell_type": "code",
      "source": [
        "scaled_train = scaler.transform(train)"
      ],
      "metadata": {
        "id": "aVK829ejQEj6"
      },
      "execution_count": null,
      "outputs": []
    },
    {
      "cell_type": "code",
      "source": [
        "scaled_test = scaler.transform(test)"
      ],
      "metadata": {
        "id": "mkiXLHJjQOFu"
      },
      "execution_count": null,
      "outputs": []
    },
    {
      "cell_type": "code",
      "source": [
        " from tensorflow.keras.preprocessing.sequence import TimeseriesGenerator"
      ],
      "metadata": {
        "id": "RWYjl25uQVh_"
      },
      "execution_count": null,
      "outputs": []
    },
    {
      "cell_type": "code",
      "source": [
        "help(TimeseriesGenerator)"
      ],
      "metadata": {
        "colab": {
          "base_uri": "https://localhost:8080/"
        },
        "id": "hDYCYAMjlQXJ",
        "outputId": "7fa56c7c-942f-4d49-e8d5-47470fdc0824"
      },
      "execution_count": null,
      "outputs": [
        {
          "output_type": "stream",
          "name": "stdout",
          "text": [
            "Help on class TimeseriesGenerator in module keras.preprocessing.sequence:\n",
            "\n",
            "class TimeseriesGenerator(keras_preprocessing.sequence.TimeseriesGenerator, keras.utils.data_utils.Sequence)\n",
            " |  TimeseriesGenerator(data, targets, length, sampling_rate=1, stride=1, start_index=0, end_index=None, shuffle=False, reverse=False, batch_size=128)\n",
            " |  \n",
            " |  Utility class for generating batches of temporal data.\n",
            " |  \n",
            " |  This class takes in a sequence of data-points gathered at\n",
            " |  equal intervals, along with time series parameters such as\n",
            " |  stride, length of history, etc., to produce batches for\n",
            " |  training/validation.\n",
            " |  # Arguments\n",
            " |      data: Indexable generator (such as list or Numpy array)\n",
            " |          containing consecutive data points (timesteps).\n",
            " |          The data should be at 2D, and axis 0 is expected\n",
            " |          to be the time dimension.\n",
            " |      targets: Targets corresponding to timesteps in `data`.\n",
            " |          It should have same length as `data`.\n",
            " |      length: Length of the output sequences (in number of timesteps).\n",
            " |      sampling_rate: Period between successive individual timesteps\n",
            " |          within sequences. For rate `r`, timesteps\n",
            " |          `data[i]`, `data[i-r]`, ... `data[i - length]`\n",
            " |          are used for create a sample sequence.\n",
            " |      stride: Period between successive output sequences.\n",
            " |          For stride `s`, consecutive output samples would\n",
            " |          be centered around `data[i]`, `data[i+s]`, `data[i+2*s]`, etc.\n",
            " |      start_index: Data points earlier than `start_index` will not be used\n",
            " |          in the output sequences. This is useful to reserve part of the\n",
            " |          data for test or validation.\n",
            " |      end_index: Data points later than `end_index` will not be used\n",
            " |          in the output sequences. This is useful to reserve part of the\n",
            " |          data for test or validation.\n",
            " |      shuffle: Whether to shuffle output samples,\n",
            " |          or instead draw them in chronological order.\n",
            " |      reverse: Boolean: if `true`, timesteps in each output sample will be\n",
            " |          in reverse chronological order.\n",
            " |      batch_size: Number of timeseries samples in each batch\n",
            " |          (except maybe the last one).\n",
            " |  # Returns\n",
            " |      A [Sequence](https://www.tensorflow.org/api_docs/python/tf/keras/utils/Sequence) instance.\n",
            " |  # Examples\n",
            " |  ```python\n",
            " |  from keras.preprocessing.sequence import TimeseriesGenerator\n",
            " |  import numpy as np\n",
            " |  data = np.array([[i] for i in range(50)])\n",
            " |  targets = np.array([[i] for i in range(50)])\n",
            " |  data_gen = TimeseriesGenerator(data, targets,\n",
            " |                                 length=10, sampling_rate=2,\n",
            " |                                 batch_size=2)\n",
            " |  assert len(data_gen) == 20\n",
            " |  batch_0 = data_gen[0]\n",
            " |  x, y = batch_0\n",
            " |  assert np.array_equal(x,\n",
            " |                        np.array([[[0], [2], [4], [6], [8]],\n",
            " |                                  [[1], [3], [5], [7], [9]]]))\n",
            " |  assert np.array_equal(y,\n",
            " |                        np.array([[10], [11]]))\n",
            " |  ```\n",
            " |  \n",
            " |  Method resolution order:\n",
            " |      TimeseriesGenerator\n",
            " |      keras_preprocessing.sequence.TimeseriesGenerator\n",
            " |      keras.utils.data_utils.Sequence\n",
            " |      builtins.object\n",
            " |  \n",
            " |  Methods inherited from keras_preprocessing.sequence.TimeseriesGenerator:\n",
            " |  \n",
            " |  __getitem__(self, index)\n",
            " |  \n",
            " |  __init__(self, data, targets, length, sampling_rate=1, stride=1, start_index=0, end_index=None, shuffle=False, reverse=False, batch_size=128)\n",
            " |      Initialize self.  See help(type(self)) for accurate signature.\n",
            " |  \n",
            " |  __len__(self)\n",
            " |  \n",
            " |  get_config(self)\n",
            " |      Returns the TimeseriesGenerator configuration as Python dictionary.\n",
            " |      \n",
            " |      # Returns\n",
            " |          A Python dictionary with the TimeseriesGenerator configuration.\n",
            " |  \n",
            " |  to_json(self, **kwargs)\n",
            " |      Returns a JSON string containing the timeseries generator\n",
            " |      configuration. To load a generator from a JSON string, use\n",
            " |      `keras.preprocessing.sequence.timeseries_generator_from_json(json_string)`.\n",
            " |      \n",
            " |      # Arguments\n",
            " |          **kwargs: Additional keyword arguments\n",
            " |              to be passed to `json.dumps()`.\n",
            " |      \n",
            " |      # Returns\n",
            " |          A JSON string containing the tokenizer configuration.\n",
            " |  \n",
            " |  ----------------------------------------------------------------------\n",
            " |  Data descriptors inherited from keras_preprocessing.sequence.TimeseriesGenerator:\n",
            " |  \n",
            " |  __dict__\n",
            " |      dictionary for instance variables (if defined)\n",
            " |  \n",
            " |  __weakref__\n",
            " |      list of weak references to the object (if defined)\n",
            " |  \n",
            " |  ----------------------------------------------------------------------\n",
            " |  Methods inherited from keras.utils.data_utils.Sequence:\n",
            " |  \n",
            " |  __iter__(self)\n",
            " |      Create a generator that iterate over the Sequence.\n",
            " |  \n",
            " |  on_epoch_end(self)\n",
            " |      Method called at the end of every epoch.\n",
            "\n"
          ]
        }
      ]
    },
    {
      "cell_type": "code",
      "source": [
        "length = 50\n",
        "batch_size = 1"
      ],
      "metadata": {
        "id": "7Wd6qNXQlWKF"
      },
      "execution_count": null,
      "outputs": []
    },
    {
      "cell_type": "code",
      "source": [
        "generator = TimeseriesGenerator(scaled_train,scaled_train,length = length,batch_size = batch_size)"
      ],
      "metadata": {
        "id": "na0IjX_allGO"
      },
      "execution_count": null,
      "outputs": []
    },
    {
      "cell_type": "code",
      "source": [
        "len(scaled_train)"
      ],
      "metadata": {
        "colab": {
          "base_uri": "https://localhost:8080/"
        },
        "id": "zEVlTFZiscCz",
        "outputId": "ba856621-69a5-4e83-8a85-b22090cc75b6"
      },
      "execution_count": null,
      "outputs": [
        {
          "output_type": "execute_result",
          "data": {
            "text/plain": [
              "451"
            ]
          },
          "metadata": {},
          "execution_count": 73
        }
      ]
    },
    {
      "cell_type": "code",
      "source": [
        "len(generator)"
      ],
      "metadata": {
        "colab": {
          "base_uri": "https://localhost:8080/"
        },
        "id": "gTfEqLB6sgti",
        "outputId": "82e0c4f1-4168-4dd0-b1f9-6f7bb837aa7b"
      },
      "execution_count": null,
      "outputs": [
        {
          "output_type": "execute_result",
          "data": {
            "text/plain": [
              "401"
            ]
          },
          "metadata": {},
          "execution_count": 74
        }
      ]
    },
    {
      "cell_type": "code",
      "source": [
        "X,y = generator[0]"
      ],
      "metadata": {
        "id": "Q5WR4DwXsriI"
      },
      "execution_count": null,
      "outputs": []
    },
    {
      "cell_type": "code",
      "source": [
        "# X"
      ],
      "metadata": {
        "id": "keKw-z0QtCMm"
      },
      "execution_count": null,
      "outputs": []
    },
    {
      "cell_type": "code",
      "source": [
        "y"
      ],
      "metadata": {
        "colab": {
          "base_uri": "https://localhost:8080/"
        },
        "id": "DTSxp-0wtHaF",
        "outputId": "1552c94c-e071-405c-a678-b8cbc8b86949"
      },
      "execution_count": null,
      "outputs": [
        {
          "output_type": "execute_result",
          "data": {
            "text/plain": [
              "array([[0.02053313]])"
            ]
          },
          "metadata": {},
          "execution_count": 77
        }
      ]
    },
    {
      "cell_type": "code",
      "source": [
        "# scaled_train"
      ],
      "metadata": {
        "id": "L9OGDRc8tIVh"
      },
      "execution_count": null,
      "outputs": []
    },
    {
      "cell_type": "code",
      "source": [
        " from tensorflow.keras.models import Sequential"
      ],
      "metadata": {
        "id": "28iCaaUwtMnh"
      },
      "execution_count": null,
      "outputs": []
    },
    {
      "cell_type": "code",
      "source": [
        "from tensorflow.keras.layers import Dense,SimpleRNN,LSTM"
      ],
      "metadata": {
        "id": "BfprW-Bxu-9s"
      },
      "execution_count": null,
      "outputs": []
    },
    {
      "cell_type": "code",
      "source": [
        "n_features = 1"
      ],
      "metadata": {
        "id": "DLfzbg4PvKLj"
      },
      "execution_count": null,
      "outputs": []
    },
    {
      "cell_type": "code",
      "source": [
        "model = Sequential()\n",
        "\n",
        "model.add(SimpleRNN(50,input_shape = (length,n_features)))\n",
        "\n",
        "model.add(Dense(1))\n",
        "\n",
        "model.compile(optimizer = 'adam', loss= 'mse')"
      ],
      "metadata": {
        "id": "kFlV8b2LvrMV"
      },
      "execution_count": null,
      "outputs": []
    },
    {
      "cell_type": "code",
      "source": [
        "model.summary()"
      ],
      "metadata": {
        "colab": {
          "base_uri": "https://localhost:8080/"
        },
        "id": "jNUsg0Rglq18",
        "outputId": "7c609b75-c288-4b02-cf33-ba2dbc145e89"
      },
      "execution_count": null,
      "outputs": [
        {
          "output_type": "stream",
          "name": "stdout",
          "text": [
            "Model: \"sequential_3\"\n",
            "_________________________________________________________________\n",
            " Layer (type)                Output Shape              Param #   \n",
            "=================================================================\n",
            " simple_rnn_3 (SimpleRNN)    (None, 50)                2600      \n",
            "                                                                 \n",
            " dense_3 (Dense)             (None, 1)                 51        \n",
            "                                                                 \n",
            "=================================================================\n",
            "Total params: 2,651\n",
            "Trainable params: 2,651\n",
            "Non-trainable params: 0\n",
            "_________________________________________________________________\n"
          ]
        }
      ]
    },
    {
      "cell_type": "code",
      "source": [
        "model.fit_generator(generator,epochs = 5)"
      ],
      "metadata": {
        "colab": {
          "base_uri": "https://localhost:8080/"
        },
        "id": "B9F2Oj5RluHI",
        "outputId": "b6c5ca77-318f-46a4-abf5-e81daa9a67df"
      },
      "execution_count": null,
      "outputs": [
        {
          "output_type": "stream",
          "name": "stdout",
          "text": [
            "Epoch 1/5\n"
          ]
        },
        {
          "output_type": "stream",
          "name": "stderr",
          "text": [
            "/usr/local/lib/python3.7/dist-packages/ipykernel_launcher.py:1: UserWarning: `Model.fit_generator` is deprecated and will be removed in a future version. Please use `Model.fit`, which supports generators.\n",
            "  \"\"\"Entry point for launching an IPython kernel.\n"
          ]
        },
        {
          "output_type": "stream",
          "name": "stdout",
          "text": [
            "401/401 [==============================] - 3s 5ms/step - loss: 0.0028\n",
            "Epoch 2/5\n",
            "401/401 [==============================] - 2s 5ms/step - loss: 5.0743e-04\n",
            "Epoch 3/5\n",
            "401/401 [==============================] - 2s 5ms/step - loss: 4.6183e-05\n",
            "Epoch 4/5\n",
            "401/401 [==============================] - 2s 5ms/step - loss: 5.4073e-04\n",
            "Epoch 5/5\n",
            "401/401 [==============================] - 2s 5ms/step - loss: 7.5310e-05\n"
          ]
        },
        {
          "output_type": "execute_result",
          "data": {
            "text/plain": [
              "<keras.callbacks.History at 0x7f141b153c10>"
            ]
          },
          "metadata": {},
          "execution_count": 84
        }
      ]
    },
    {
      "cell_type": "code",
      "source": [
        "losses = pd.DataFrame(model.history.history)"
      ],
      "metadata": {
        "id": "jI2477cwl5L_"
      },
      "execution_count": null,
      "outputs": []
    },
    {
      "cell_type": "code",
      "source": [
        "losses.plot()"
      ],
      "metadata": {
        "colab": {
          "base_uri": "https://localhost:8080/",
          "height": 282
        },
        "id": "Dvb-EwRRmMDk",
        "outputId": "a1d55f55-c57d-47be-fc5d-a99eb0f0811b"
      },
      "execution_count": null,
      "outputs": [
        {
          "output_type": "execute_result",
          "data": {
            "text/plain": [
              "<matplotlib.axes._subplots.AxesSubplot at 0x7f141ae2dc50>"
            ]
          },
          "metadata": {},
          "execution_count": 91
        },
        {
          "output_type": "display_data",
          "data": {
            "text/plain": [
              "<Figure size 432x288 with 1 Axes>"
            ],
            "image/png": "[encoded data removed]"
          },
          "metadata": {
            "needs_background": "light"
          }
        }
      ]
    },
    {
      "cell_type": "code",
      "source": [
        "first_eval_batch = scaled_train[-length:]"
      ],
      "metadata": {
        "id": "ukWa78_rmOs0"
      },
      "execution_count": null,
      "outputs": []
    },
    {
      "cell_type": "code",
      "source": [
        "first_eval_batch =  first_eval_batch.reshape((1,length,n_features))"
      ],
      "metadata": {
        "id": "pZgvaJP7nAE-"
      },
      "execution_count": null,
      "outputs": []
    },
    {
      "cell_type": "code",
      "source": [
        "model.predict(first_eval_batch)"
      ],
      "metadata": {
        "colab": {
          "base_uri": "https://localhost:8080/"
        },
        "id": "29_U2FpjnU5l",
        "outputId": "febbb080-6cb4-4bda-c48b-4114fe22391f"
      },
      "execution_count": null,
      "outputs": [
        {
          "output_type": "execute_result",
          "data": {
            "text/plain": [
              "array([[0.9513633]], dtype=float32)"
            ]
          },
          "metadata": {},
          "execution_count": 89
        }
      ]
    },
    {
      "cell_type": "code",
      "source": [
        "scaled_test[0]"
      ],
      "metadata": {
        "colab": {
          "base_uri": "https://localhost:8080/"
        },
        "id": "arqrIo54ntHN",
        "outputId": "4fb7e740-a548-4f5e-9236-8d01df7840b2"
      },
      "execution_count": null,
      "outputs": [
        {
          "output_type": "execute_result",
          "data": {
            "text/plain": [
              "array([0.94955134])"
            ]
          },
          "metadata": {},
          "execution_count": 90
        }
      ]
    },
    {
      "cell_type": "code",
      "source": [
        "test_predictions = []\n",
        "\n",
        "first_eval_batch = scaled_train[-length:]\n",
        "current_batch = first_eval_batch.reshape((1,length,n_features))\n",
        "\n"
      ],
      "metadata": {
        "id": "Nt5OQPpFoSY_"
      },
      "execution_count": null,
      "outputs": []
    },
    {
      "cell_type": "code",
      "source": [
        "# predicted_value = [[[99]]]\n",
        "# np.append(current_batch[:,1:,:],[[[99]]],axis = 1)\n",
        "\n",
        "# np.append(current_batch[:,1:,:],predicted_value,axis = 1)"
      ],
      "metadata": {
        "id": "Rdo-XaXxqHof"
      },
      "execution_count": null,
      "outputs": []
    },
    {
      "cell_type": "code",
      "source": [
        "test_predictions = []\n",
        "\n",
        "first_eval_batch = scaled_train[-length:]\n",
        "current_batch = first_eval_batch.reshape((1,length,n_features))\n",
        "\n",
        "for i in range(len(test)):\n",
        "\n",
        "  current_pred = model.predict(current_batch)[0]\n",
        "\n",
        "  test_predictions.append(current_pred)\n",
        "\n",
        "  current_batch = np.append(current_batch[:,1:,:],[[current_pred]],axis = 1)"
      ],
      "metadata": {
        "id": "Lfkh1yRgrVcE"
      },
      "execution_count": null,
      "outputs": []
    },
    {
      "cell_type": "code",
      "source": [
        "# test_predictions"
      ],
      "metadata": {
        "id": "w_bHYcz5zvV8"
      },
      "execution_count": null,
      "outputs": []
    },
    {
      "cell_type": "code",
      "source": [
        "true_predictions = scaler.inverse_transform(test_predictions)"
      ],
      "metadata": {
        "id": "FPsMnKyHzyto"
      },
      "execution_count": null,
      "outputs": []
    },
    {
      "cell_type": "code",
      "source": [
        "test['Predictions'] = true_predictions"
      ],
      "metadata": {
        "colab": {
          "base_uri": "https://localhost:8080/"
        },
        "id": "EaRRqzKB0DAl",
        "outputId": "6604b645-cc48-4529-ede2-4b60418e0923"
      },
      "execution_count": null,
      "outputs": [
        {
          "output_type": "stream",
          "name": "stderr",
          "text": [
            "/usr/local/lib/python3.7/dist-packages/ipykernel_launcher.py:1: SettingWithCopyWarning: \n",
            "A value is trying to be set on a copy of a slice from a DataFrame.\n",
            "Try using .loc[row_indexer,col_indexer] = value instead\n",
            "\n",
            "See the caveats in the documentation: https://pandas.pydata.org/pandas-docs/stable/user_guide/indexing.html#returning-a-view-versus-a-copy\n",
            "  \"\"\"Entry point for launching an IPython kernel.\n"
          ]
        }
      ]
    },
    {
      "cell_type": "code",
      "source": [
        "test"
      ],
      "metadata": {
        "id": "ULdoLupT0OBH"
      },
      "execution_count": null,
      "outputs": []
    },
    {
      "cell_type": "code",
      "source": [
        "test.plot(figsize = (12,8))"
      ],
      "metadata": {
        "colab": {
          "base_uri": "https://localhost:8080/",
          "height": 451
        },
        "id": "FceIoVlg0Rmh",
        "outputId": "9e51a90f-a0b5-4873-e2b2-0b4d59fb053d"
      },
      "execution_count": null,
      "outputs": [
        {
          "output_type": "execute_result",
          "data": {
            "text/plain": [
              "<matplotlib.axes._subplots.AxesSubplot at 0x7f1418b191d0>"
            ]
          },
          "metadata": {},
          "execution_count": 100
        },
        {
          "output_type": "display_data",
          "data": {
            "text/plain": [
              "<Figure size 864x576 with 1 Axes>"
            ],
            "image/png": "[encoded data removed]"
          },
          "metadata": {
            "needs_background": "light"
          }
        }
      ]
    },
    {
      "cell_type": "code",
      "source": [
        "from tensorflow.keras.callbacks import EarlyStopping"
      ],
      "metadata": {
        "id": "bmn1n1400gkq"
      },
      "execution_count": null,
      "outputs": []
    },
    {
      "cell_type": "code",
      "source": [
        "early_stop = EarlyStopping(monitor = 'val_loss',patience = 2)"
      ],
      "metadata": {
        "id": "gDTrlZjp1b_d"
      },
      "execution_count": null,
      "outputs": []
    },
    {
      "cell_type": "code",
      "source": [
        "length = 49\n",
        "generator = TimeseriesGenerator(scaled_train,scaled_train,length = length , batch_size = 1)\n",
        "\n",
        "validation_generator = TimeseriesGenerator(scaled_test,scaled_test,length = length,batch_size = 1)"
      ],
      "metadata": {
        "id": "lhNu2c5p1osO"
      },
      "execution_count": null,
      "outputs": []
    },
    {
      "cell_type": "code",
      "source": [
        "model = Sequential()\n",
        "\n",
        "model.add(LSTM(50,input_shape= (length,n_features)))\n",
        "\n",
        "model.add(Dense(1))\n",
        "\n",
        "model.compile(optimizer = 'adam', loss = 'mse')"
      ],
      "metadata": {
        "id": "iS5YhaSW37TV"
      },
      "execution_count": null,
      "outputs": []
    },
    {
      "cell_type": "code",
      "source": [
        "model.fit_generator(generator,epochs = 20,\n",
        "                    validation_data = validation_generator,\n",
        "                    callbacks = [early_stop])"
      ],
      "metadata": {
        "colab": {
          "base_uri": "https://localhost:8080/"
        },
        "id": "PgjY4Unl4mei",
        "outputId": "a70fba02-da1f-4a4e-8edb-382635284b04"
      },
      "execution_count": null,
      "outputs": [
        {
          "output_type": "stream",
          "name": "stdout",
          "text": [
            "Epoch 1/20\n"
          ]
        },
        {
          "output_type": "stream",
          "name": "stderr",
          "text": [
            "/usr/local/lib/python3.7/dist-packages/ipykernel_launcher.py:3: UserWarning: `Model.fit_generator` is deprecated and will be removed in a future version. Please use `Model.fit`, which supports generators.\n",
            "  This is separate from the ipykernel package so we can avoid doing imports until\n"
          ]
        },
        {
          "output_type": "stream",
          "name": "stdout",
          "text": [
            "402/402 [==============================] - 7s 13ms/step - loss: 0.0132 - val_loss: 1.5594e-04\n",
            "Epoch 2/20\n",
            "402/402 [==============================] - 5s 12ms/step - loss: 9.4852e-05 - val_loss: 7.0861e-05\n",
            "Epoch 3/20\n",
            "402/402 [==============================] - 5s 12ms/step - loss: 1.9993e-04 - val_loss: 9.9971e-06\n",
            "Epoch 4/20\n",
            "402/402 [==============================] - 5s 12ms/step - loss: 2.8115e-04 - val_loss: 5.2565e-05\n",
            "Epoch 5/20\n",
            "402/402 [==============================] - 5s 12ms/step - loss: 8.0241e-05 - val_loss: 4.8550e-05\n"
          ]
        },
        {
          "output_type": "execute_result",
          "data": {
            "text/plain": [
              "<keras.callbacks.History at 0x7f141472a350>"
            ]
          },
          "metadata": {},
          "execution_count": 107
        }
      ]
    },
    {
      "cell_type": "code",
      "source": [
        "test_predictions = []\n",
        "\n",
        "first_eval_batch = scaled_train[-length:]\n",
        "current_batch = first_eval_batch.reshape((1,length,n_features))\n",
        "\n",
        "for i in range(len(test)):\n",
        "\n",
        "  current_pred = model.predict(current_batch)[0]\n",
        "\n",
        "  test_predictions.append(current_pred)\n",
        "\n",
        "  current_batch = np.append(current_batch[:,1:,:],[[current_pred]],axis = 1)"
      ],
      "metadata": {
        "id": "XX5HEGP047aF"
      },
      "execution_count": null,
      "outputs": []
    },
    {
      "cell_type": "code",
      "source": [
        "true_predictions = scaler.inverse_transform(test_predictions)\n",
        "\n",
        "test['LSTM Predictions'] = true_predictions\n",
        "\n",
        "test.plot(figsize = (12,8))"
      ],
      "metadata": {
        "colab": {
          "base_uri": "https://localhost:8080/",
          "height": 576
        },
        "id": "OZQOqlzV5JNu",
        "outputId": "1983c161-f4b2-496a-b9d2-a233a6eb480a"
      },
      "execution_count": null,
      "outputs": [
        {
          "output_type": "stream",
          "name": "stderr",
          "text": [
            "/usr/local/lib/python3.7/dist-packages/ipykernel_launcher.py:3: SettingWithCopyWarning: \n",
            "A value is trying to be set on a copy of a slice from a DataFrame.\n",
            "Try using .loc[row_indexer,col_indexer] = value instead\n",
            "\n",
            "See the caveats in the documentation: https://pandas.pydata.org/pandas-docs/stable/user_guide/indexing.html#returning-a-view-versus-a-copy\n",
            "  This is separate from the ipykernel package so we can avoid doing imports until\n"
          ]
        },
        {
          "output_type": "execute_result",
          "data": {
            "text/plain": [
              "<matplotlib.axes._subplots.AxesSubplot at 0x7f141442f790>"
            ]
          },
          "metadata": {},
          "execution_count": 111
        },
        {
          "output_type": "display_data",
          "data": {
            "text/plain": [
              "<Figure size 864x576 with 1 Axes>"
            ],
            "image/png": "[encoded data removed]"
          },
          "metadata": {
            "needs_background": "light"
          }
        }
      ]
    },
    {
      "cell_type": "code",
      "source": [
        "df.plot()"
      ],
      "metadata": {
        "colab": {
          "base_uri": "https://localhost:8080/",
          "height": 282
        },
        "id": "sB0g4QRV5iW9",
        "outputId": "d14e9046-e6a6-4169-d9ec-4432686e4336"
      },
      "execution_count": null,
      "outputs": [
        {
          "output_type": "execute_result",
          "data": {
            "text/plain": [
              "<matplotlib.axes._subplots.AxesSubplot at 0x7f1413c50bd0>"
            ]
          },
          "metadata": {},
          "execution_count": 112
        },
        {
          "output_type": "display_data",
          "data": {
            "text/plain": [
              "<Figure size 432x288 with 1 Axes>"
            ],
            "image/png": "[encoded data removed]"
          },
          "metadata": {
            "needs_background": "light"
          }
        }
      ]
    },
    {
      "cell_type": "code",
      "source": [
        "full_scaler = MinMaxScaler()\n",
        "scaled_full_data = full_scaler.fit_transform(df)"
      ],
      "metadata": {
        "id": "LIBtsbBw54cU"
      },
      "execution_count": null,
      "outputs": []
    },
    {
      "cell_type": "code",
      "source": [
        "generator = TimeseriesGenerator(scaled_full_data,scaled_full_data,length = length, batch_size = 1)"
      ],
      "metadata": {
        "id": "fHXiaq6N6cCR"
      },
      "execution_count": null,
      "outputs": []
    },
    {
      "cell_type": "code",
      "source": [
        "model = Sequential()\n",
        "\n",
        "model.add(LSTM(50,input_shape= (length,n_features)))\n",
        "\n",
        "model.add(Dense(1))\n",
        "\n",
        "model.compile(optimizer = 'adam', loss = 'mse')"
      ],
      "metadata": {
        "id": "qW2h9sEr7FCF"
      },
      "execution_count": null,
      "outputs": []
    },
    {
      "cell_type": "code",
      "source": [
        "model.fit_generator(generator,epochs = 6)"
      ],
      "metadata": {
        "colab": {
          "base_uri": "https://localhost:8080/"
        },
        "id": "J36CwneT7MNP",
        "outputId": "876fac68-db09-4c47-f7dd-87d65f3f47bc"
      },
      "execution_count": null,
      "outputs": [
        {
          "output_type": "stream",
          "name": "stdout",
          "text": [
            "Epoch 1/6\n"
          ]
        },
        {
          "output_type": "stream",
          "name": "stderr",
          "text": [
            "/usr/local/lib/python3.7/dist-packages/ipykernel_launcher.py:1: UserWarning: `Model.fit_generator` is deprecated and will be removed in a future version. Please use `Model.fit`, which supports generators.\n",
            "  \"\"\"Entry point for launching an IPython kernel.\n"
          ]
        },
        {
          "output_type": "stream",
          "name": "stdout",
          "text": [
            "452/452 [==============================] - 7s 12ms/step - loss: 0.0083\n",
            "Epoch 2/6\n",
            "452/452 [==============================] - 6s 12ms/step - loss: 1.2699e-04\n",
            "Epoch 3/6\n",
            "452/452 [==============================] - 5s 12ms/step - loss: 3.2514e-04\n",
            "Epoch 4/6\n",
            "452/452 [==============================] - 6s 12ms/step - loss: 7.2632e-05\n",
            "Epoch 5/6\n",
            "452/452 [==============================] - 6s 12ms/step - loss: 1.2815e-04\n",
            "Epoch 6/6\n",
            "452/452 [==============================] - 5s 12ms/step - loss: 1.7859e-04\n"
          ]
        },
        {
          "output_type": "execute_result",
          "data": {
            "text/plain": [
              "<keras.callbacks.History at 0x7f14142071d0>"
            ]
          },
          "metadata": {},
          "execution_count": 116
        }
      ]
    },
    {
      "cell_type": "code",
      "source": [
        "forecast = []\n",
        "\n",
        "first_eval_batch = scaled_train[-length:]\n",
        "current_batch = first_eval_batch.reshape((1,length,n_features))\n",
        "\n",
        "for i in range(25):\n",
        "\n",
        "  current_pred = model.predict(current_batch)[0]\n",
        "\n",
        "  forecast.append(current_pred)\n",
        "\n",
        "  current_batch = np.append(current_batch[:,1:,:],[[current_pred]],axis = 1)"
      ],
      "metadata": {
        "id": "FaNu3vyS7Y8t"
      },
      "execution_count": null,
      "outputs": []
    },
    {
      "cell_type": "code",
      "source": [
        "forecast = scaler.inverse_transform(forecast)"
      ],
      "metadata": {
        "id": "v8u53WeB7ovv"
      },
      "execution_count": null,
      "outputs": []
    },
    {
      "cell_type": "code",
      "source": [
        "df"
      ],
      "metadata": {
        "colab": {
          "base_uri": "https://localhost:8080/",
          "height": 424
        },
        "id": "mCww-4xD9WKv",
        "outputId": "8628fc0d-c212-42fe-c023-63f6dff69950"
      },
      "execution_count": null,
      "outputs": [
        {
          "output_type": "execute_result",
          "data": {
            "text/plain": [
              "          Sine\n",
              "0.0   0.000000\n",
              "0.1   0.099833\n",
              "0.2   0.198669\n",
              "0.3   0.295520\n",
              "0.4   0.389418\n",
              "...        ...\n",
              "49.6 -0.617439\n",
              "49.7 -0.535823\n",
              "49.8 -0.448854\n",
              "49.9 -0.357400\n",
              "50.0 -0.262375\n",
              "\n",
              "[501 rows x 1 columns]"
            ],
            "text/html": [
              "\n",
              "  <div id=\"df-b1f6f583-8b48-4691-bc94-be0459c27362\">\n",
              "    <div class=\"colab-df-container\">\n",
              "      <div>\n",
              "<style scoped>\n",
              "    .dataframe tbody tr th:only-of-type {\n",
              "        vertical-align: middle;\n",
              "    }\n",
              "\n",
              "    .dataframe tbody tr th {\n",
              "        vertical-align: top;\n",
              "    }\n",
              "\n",
              "    .dataframe thead th {\n",
              "        text-align: right;\n",
              "    }\n",
              "</style>\n",
              "<table border=\"1\" class=\"dataframe\">\n",
              "  <thead>\n",
              "    <tr style=\"text-align: right;\">\n",
              "      <th></th>\n",
              "      <th>Sine</th>\n",
              "    </tr>\n",
              "  </thead>\n",
              "  <tbody>\n",
              "    <tr>\n",
              "      <th>0.0</th>\n",
              "      <td>0.000000</td>\n",
              "    </tr>\n",
              "    <tr>\n",
              "      <th>0.1</th>\n",
              "      <td>0.099833</td>\n",
              "    </tr>\n",
              "    <tr>\n",
              "      <th>0.2</th>\n",
              "      <td>0.198669</td>\n",
              "    </tr>\n",
              "    <tr>\n",
              "      <th>0.3</th>\n",
              "      <td>0.295520</td>\n",
              "    </tr>\n",
              "    <tr>\n",
              "      <th>0.4</th>\n",
              "      <td>0.389418</td>\n",
              "    </tr>\n",
              "    <tr>\n",
              "      <th>...</th>\n",
              "      <td>...</td>\n",
              "    </tr>\n",
              "    <tr>\n",
              "      <th>49.6</th>\n",
              "      <td>-0.617439</td>\n",
              "    </tr>\n",
              "    <tr>\n",
              "      <th>49.7</th>\n",
              "      <td>-0.535823</td>\n",
              "    </tr>\n",
              "    <tr>\n",
              "      <th>49.8</th>\n",
              "      <td>-0.448854</td>\n",
              "    </tr>\n",
              "    <tr>\n",
              "      <th>49.9</th>\n",
              "      <td>-0.357400</td>\n",
              "    </tr>\n",
              "    <tr>\n",
              "      <th>50.0</th>\n",
              "      <td>-0.262375</td>\n",
              "    </tr>\n",
              "  </tbody>\n",
              "</table>\n",
              "<p>501 rows × 1 columns</p>\n",
              "</div>\n",
              "      <button class=\"colab-df-convert\" onclick=\"convertToInteractive('df-b1f6f583-8b48-4691-bc94-be0459c27362')\"\n",
              "              title=\"Convert this dataframe to an interactive table.\"\n",
              "              style=\"display:none;\">\n",
              "        \n",
              "  <svg xmlns=\"http://www.w3.org/2000/svg\" height=\"24px\"viewBox=\"0 0 24 24\"\n",
              "       width=\"24px\">\n",
              "    <path d=\"M0 0h24v24H0V0z\" fill=\"none\"/>\n",
              "    <path d=\"M18.56 5.44l.94 2.06.94-2.06 2.06-.94-2.06-.94-.94-2.06-.94 2.06-2.06.94zm-11 1L8.5 8.5l.94-2.06 2.06-.94-2.06-.94L8.5 2.5l-.94 2.06-2.06.94zm10 10l.94 2.06.94-2.06 2.06-.94-2.06-.94-.94-2.06-.94 2.06-2.06.94z\"/><path d=\"M17.41 7.96l-1.37-1.37c-.4-.4-.92-.59-1.43-.59-.52 0-1.04.2-1.43.59L10.3 9.45l-7.72 7.72c-.78.78-.78 2.05 0 2.83L4 21.41c.39.39.9.59 1.41.59.51 0 1.02-.2 1.41-.59l7.78-7.78 2.81-2.81c.8-.78.8-2.07 0-2.86zM5.41 20L4 18.59l7.72-7.72 1.47 1.35L5.41 20z\"/>\n",
              "  </svg>\n",
              "      </button>\n",
              "      \n",
              "  <style>\n",
              "    .colab-df-container {\n",
              "      display:flex;\n",
              "      flex-wrap:wrap;\n",
              "      gap: 12px;\n",
              "    }\n",
              "\n",
              "    .colab-df-convert {\n",
              "      background-color: #E8F0FE;\n",
              "      border: none;\n",
              "      border-radius: 50%;\n",
              "      cursor: pointer;\n",
              "      display: none;\n",
              "      fill: #1967D2;\n",
              "      height: 32px;\n",
              "      padding: 0 0 0 0;\n",
              "      width: 32px;\n",
              "    }\n",
              "\n",
              "    .colab-df-convert:hover {\n",
              "      background-color: #E2EBFA;\n",
              "      box-shadow: 0px 1px 2px rgba(60, 64, 67, 0.3), 0px 1px 3px 1px rgba(60, 64, 67, 0.15);\n",
              "      fill: #174EA6;\n",
              "    }\n",
              "\n",
              "    [theme=dark] .colab-df-convert {\n",
              "      background-color: #3B4455;\n",
              "      fill: #D2E3FC;\n",
              "    }\n",
              "\n",
              "    [theme=dark] .colab-df-convert:hover {\n",
              "      background-color: #434B5C;\n",
              "      box-shadow: 0px 1px 3px 1px rgba(0, 0, 0, 0.15);\n",
              "      filter: drop-shadow(0px 1px 2px rgba(0, 0, 0, 0.3));\n",
              "      fill: #FFFFFF;\n",
              "    }\n",
              "  </style>\n",
              "\n",
              "      <script>\n",
              "        const buttonEl =\n",
              "          document.querySelector('#df-b1f6f583-8b48-4691-bc94-be0459c27362 button.colab-df-convert');\n",
              "        buttonEl.style.display =\n",
              "          google.colab.kernel.accessAllowed ? 'block' : 'none';\n",
              "\n",
              "        async function convertToInteractive(key) {\n",
              "          const element = document.querySelector('#df-b1f6f583-8b48-4691-bc94-be0459c27362');\n",
              "          const dataTable =\n",
              "            await google.colab.kernel.invokeFunction('convertToInteractive',\n",
              "                                                     [key], {});\n",
              "          if (!dataTable) return;\n",
              "\n",
              "          const docLinkHtml = 'Like what you see? Visit the ' +\n",
              "            '<a target=\"_blank\" href=https://colab.research.google.com/notebooks/data_table.ipynb>data table notebook</a>'\n",
              "            + ' to learn more about interactive tables.';\n",
              "          element.innerHTML = '';\n",
              "          dataTable['output_type'] = 'display_data';\n",
              "          await google.colab.output.renderOutput(dataTable, element);\n",
              "          const docLink = document.createElement('div');\n",
              "          docLink.innerHTML = docLinkHtml;\n",
              "          element.appendChild(docLink);\n",
              "        }\n",
              "      </script>\n",
              "    </div>\n",
              "  </div>\n",
              "  "
            ]
          },
          "metadata": {},
          "execution_count": 121
        }
      ]
    },
    {
      "cell_type": "code",
      "source": [
        "25*0.1"
      ],
      "metadata": {
        "colab": {
          "base_uri": "https://localhost:8080/"
        },
        "id": "tOYnNghaHzCR",
        "outputId": "f6063206-c3dc-42ab-cc00-9aa12bffeae4"
      },
      "execution_count": null,
      "outputs": [
        {
          "output_type": "execute_result",
          "data": {
            "text/plain": [
              "2.5"
            ]
          },
          "metadata": {},
          "execution_count": 122
        }
      ]
    },
    {
      "cell_type": "code",
      "source": [
        "forecast_index = np.arange(50.1,52.6,step= 0.1)"
      ],
      "metadata": {
        "id": "WHxOFr0N78sg"
      },
      "execution_count": null,
      "outputs": []
    },
    {
      "cell_type": "code",
      "source": [
        "len(forecast_index)"
      ],
      "metadata": {
        "colab": {
          "base_uri": "https://localhost:8080/"
        },
        "id": "ZqUSH1SkM9dG",
        "outputId": "90d9e355-120f-4fd4-cac1-22d559216f33"
      },
      "execution_count": null,
      "outputs": [
        {
          "output_type": "execute_result",
          "data": {
            "text/plain": [
              "25"
            ]
          },
          "metadata": {},
          "execution_count": 125
        }
      ]
    },
    {
      "cell_type": "code",
      "source": [
        "len(forecast)"
      ],
      "metadata": {
        "colab": {
          "base_uri": "https://localhost:8080/"
        },
        "id": "5KMFIXWmNGG_",
        "outputId": "48e48362-2c02-4e80-d315-89b32ce4f2c7"
      },
      "execution_count": null,
      "outputs": [
        {
          "output_type": "execute_result",
          "data": {
            "text/plain": [
              "25"
            ]
          },
          "metadata": {},
          "execution_count": 126
        }
      ]
    },
    {
      "cell_type": "code",
      "source": [
        "plt.plot(df.index,df['Sine'])\n",
        "plt.plot(forecast_index,forecast)"
      ],
      "metadata": {
        "colab": {
          "base_uri": "https://localhost:8080/",
          "height": 282
        },
        "id": "EWDEZo2JNJec",
        "outputId": "1353b3d8-c07c-49e4-91b2-23f11a6afae7"
      },
      "execution_count": null,
      "outputs": [
        {
          "output_type": "execute_result",
          "data": {
            "text/plain": [
              "[<matplotlib.lines.Line2D at 0x7f141a75fd10>]"
            ]
          },
          "metadata": {},
          "execution_count": 127
        },
        {
          "output_type": "display_data",
          "data": {
            "text/plain": [
              "<Figure size 432x288 with 1 Axes>"
            ],
            "image/png": "[encoded data removed]"
          },
          "metadata": {
            "needs_background": "light"
          }
        }
      ]
    },
    {
      "cell_type": "code",
      "source": [],
      "metadata": {
        "id": "mVak6uiqNjeF"
      },
      "execution_count": null,
      "outputs": []
    }
  ]
}